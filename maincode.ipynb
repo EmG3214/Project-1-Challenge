{
 "cells": [
  {
   "cell_type": "code",
   "execution_count": 5,
   "metadata": {},
   "outputs": [
    {
     "name": "stdout",
     "output_type": "stream",
     "text": [
      "   index  Age  Sex  Chest pain type   BP  Cholesterol  FBS over 120  \\\n",
      "0      0   70    1                4  130          322             0   \n",
      "1      1   67    0                3  115          564             0   \n",
      "2      2   57    1                2  124          261             0   \n",
      "3      3   64    1                4  128          263             0   \n",
      "4      4   74    0                2  120          269             0   \n",
      "\n",
      "   EKG results  Max HR  Exercise angina  ST depression  Slope of ST  \\\n",
      "0            2     109                0            2.4            2   \n",
      "1            2     160                0            1.6            2   \n",
      "2            0     141                0            0.3            1   \n",
      "3            0     105                1            0.2            2   \n",
      "4            2     121                1            0.2            1   \n",
      "\n",
      "   Number of vessels fluro  Thallium Heart Disease  \n",
      "0                        3         3      Presence  \n",
      "1                        0         7       Absence  \n",
      "2                        0         7      Presence  \n",
      "3                        1         7       Absence  \n",
      "4                        1         3       Absence  \n"
     ]
    }
   ],
   "source": [
    "import os\n",
    "import csv\n",
    "import pandas as pd\n",
    "\n",
    "# start reading the csv file \n",
    "df = pd.read_csv('Resources\\Heart_Disease_Prediction.csv')\n",
    "\n",
    "print(df.head())\n",
    "\n",
    "\n",
    "\n",
    "\n",
    "\n"
   ]
  }
 ],
 "metadata": {
  "kernelspec": {
   "display_name": "Python 3",
   "language": "python",
   "name": "python3"
  },
  "language_info": {
   "codemirror_mode": {
    "name": "ipython",
    "version": 3
   },
   "file_extension": ".py",
   "mimetype": "text/x-python",
   "name": "python",
   "nbconvert_exporter": "python",
   "pygments_lexer": "ipython3",
   "version": "3.10.10"
  },
  "orig_nbformat": 4,
  "vscode": {
   "interpreter": {
    "hash": "001b8b403c45351d67764942b6448821a1544cd67e124a8b7929a198b2384088"
   }
  }
 },
 "nbformat": 4,
 "nbformat_minor": 2
}
